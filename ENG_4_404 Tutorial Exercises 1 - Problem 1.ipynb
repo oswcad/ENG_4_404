{
 "cells": [
  {
   "cell_type": "markdown",
   "metadata": {},
   "source": [
    "1. For the following circuit\n",
    "\n",
    "<img src=\"E1-1.PNG\">\n",
    "\n",
    "consider the following\n",
    "\n",
    "a) The circuit below is constructed from ideal sources, is it valid? <br>\n",
    "b) Identify which sources are generating power and which are absorbing power <br>\n",
    "c) Verify that the sum of the total power in the circuit is zero <br>\n"
   ]
  },
  {
   "cell_type": "markdown",
   "metadata": {},
   "source": [
    "## About being valid?"
   ]
  },
  {
   "cell_type": "markdown",
   "metadata": {},
   "source": [
    "The recommended way to consider this problem is to look at each source individually. And, on slide 11 on Lecture 1, we know two things:\n",
    "\n",
    "- If the current flows from the positive terminal of a block unit then that block is generating power. See (a) in slide 11.\n",
    "\n",
    "- If the current flows into the positive terminal of a block unit then that block is absorving power. See (b) in slide 11. \n",
    "\n",
    "There are another two possible combinations to distinguinh between generating and absorving power. See (c) and (d) on slide 11 of the lecture notes. \n",
    "\n",
    "It is a little too early to see whether the circuit is valid or not, we need top check voltages and currents at every point across the circuit. "
   ]
  },
  {
   "cell_type": "markdown",
   "metadata": {},
   "source": [
    "## Deciding which source does generate or absorb power? \n",
    "\n",
    "We can apply the basic laws of voltage and current at selected points in the circuit. For example at points *G*, *N* and *W* of the circuit as shown here:\n",
    "\n",
    "<img src=\"E11a.PNG\" width = \"400\">\n",
    "\n",
    "**Note**: Do do not get confused with point *W*; it is just a name not W for watts. \n",
    "\n",
    "We know:\n",
    "\n",
    "- The voltage at point *N* is $V_N = 100$ V. From this we can deduce that the voltage at point *W* is $V_W = 100 + 40 = 140$ V. \n",
    "\n",
    "- At point *N* the sum of the currents has to be zero. Or the sum of currents arriving at point *N* has to be equal to the sum of current leaving the point. If we say that the current leaving point *N* is $I_{NG}$ then \n",
    "\n",
    "$$ 10 + 5 = I_{NG} = 15A$$ \n",
    "\n",
    "Thus we can make the following deductions:\n",
    "\n",
    "- For the current source of 10 A: Since 100 V are across the current source, the 10 A flows from the positive terminal (or flows into the negative terminal) then it is **generating** power.\n",
    "\n",
    "- For the voltage source of 100 V: Since 15 A are getting into the positive terminal (or emerging from the negative terminal) then it is **absorbing** power. \n",
    "\n",
    "- For the voltage source of 40 V: Since 5 A are getting into the positive terminal (or emerging from the negative terminal) then it is **absorbing** power. \n",
    "\n",
    "- For the current source of 5 A: Since 140 V are across the current source, the 5 A flows from the positive terminal (or flows into the negative terminal) then it is **generating** power.\n",
    "\n",
    "This is clrearly shown in this figure:\n",
    "\n",
    "\n",
    "<img src=\"E11b.PNG\"> \n"
   ]
  },
  {
   "cell_type": "markdown",
   "metadata": {},
   "source": [
    "## Well, was it a valid circuit or not?\n",
    "\n",
    "In the analsysis that we did for the points *N*, *G* and *W*, also called **nodes**, we did not find any inconsistency or conflicting sources. For this reason we can state that the circuit is **valid**. "
   ]
  },
  {
   "cell_type": "markdown",
   "metadata": {},
   "source": [
    "## About the total power in the system\n",
    "\n",
    "- For the current source of 10 A: Power is $P_{10A} = (100V)*(10A) = 1000 W$\n",
    "\n",
    "- For the voltage source of 100 V: Power is $P_{100V} = -(100V)*(15A) = -1500 W$\n",
    "\n",
    "- For the voltage source of 40 V: Power is $P_{40V} = -(40V)*(5A) = -200 W$\n",
    "\n",
    "- For the current source of 5 A: Power is $P_{5A} = (140V)*(5A) = 700 W$"
   ]
  },
  {
   "cell_type": "markdown",
   "metadata": {},
   "source": [
    "## Summing up power across all sources\n",
    "\n",
    "The total power for the circuit, $P_T$ is:\n",
    "\n",
    "$$ P_T = P_{10A} + P_{100V} + P_{40V} + P_{5A} = 1000 -1500 - 200 + 700 = 0$$"
   ]
  },
  {
   "cell_type": "markdown",
   "metadata": {},
   "source": [
    "## A word of caution\n",
    "\n",
    "Assume that in slide 11, of Lecture 1, the block is a resistor. Then we have case (c) with power $p = -vi$ or *absorbing* power. \n",
    "\n",
    "<img src=\"E11c.JPG\" width=\"400\"> \n",
    "\n",
    "So, mathematically speaking the power in the resistor would be -5W, -200W or whatever value is computed from multiplying out the voltage value times the current through it. But in electronic parlance we normally don't say that the resitor power is -5W, we say the resistor *dissipates* 5W. "
   ]
  }
 ],
 "metadata": {
  "kernelspec": {
   "display_name": "Python 3",
   "language": "python",
   "name": "python3"
  },
  "language_info": {
   "codemirror_mode": {
    "name": "ipython",
    "version": 3
   },
   "file_extension": ".py",
   "mimetype": "text/x-python",
   "name": "python",
   "nbconvert_exporter": "python",
   "pygments_lexer": "ipython3",
   "version": "3.6.0"
  }
 },
 "nbformat": 4,
 "nbformat_minor": 2
}

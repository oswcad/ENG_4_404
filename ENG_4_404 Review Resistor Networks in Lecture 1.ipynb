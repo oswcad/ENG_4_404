{
 "cells": [
  {
   "cell_type": "markdown",
   "metadata": {},
   "source": [
    "# Series and parallel resistor exercise\n",
    "\n",
    "In slide 22 of Lecture 1 there is an exercise with the circuit ![A resistor circuit](ResistorCircuit.png \"circuit\")\n",
    "\n",
    "the task is to combine series and parallel resistors accordingly to simplify circuits and determine equivalent resistances. Let's try that. \n",
    "\n",
    "**Note: ** The idea is to replace all the 5 resistors into a single resistor value. This one resistor will replace the previous 5 resistors across the terminals *a* and *b* so that has a value equivalent to all the old previous 5 resistors combined. The combination follows rules about how resistors are combined when either in *series* or *parallel* configurations. "
   ]
  },
  {
   "cell_type": "markdown",
   "metadata": {},
   "source": [
    "## Step 1\n",
    "\n",
    "- Start by looking at the far end of the terminals *a* and *b*. We notice there that resistor with value $10 \\Omega$ is in series with the resistor with value $14 \\Omega$. \n",
    "\n",
    "- We know that two resistors in series add up their values when connected in series. Thus $10 \\Omega + 14 \\Omega = 24 \\Omega$. This is shown below. \n",
    "\n",
    "<img src=\"T1.jpg\" width=\"400\">"
   ]
  },
  {
   "cell_type": "markdown",
   "metadata": {},
   "source": [
    "## Step 2\n",
    "\n",
    "- Looking again at the far end of terminals *a* and *b*, now we notice there that resistor with value $12 \\Omega$ is in parallel with the resistor with value $24 \\Omega$.\n",
    "\n",
    "- We know that two resistors in parallel combine their values in a more complicated manner. Imagine we have two resitors, say with names $R_1$ and $R_2$. The equivalent resistance of the two, let's call it $R_{eq}$ is given by:\n",
    "\n",
    "$$ \\frac{1}{R_{eq}} = \\frac{1}{R_1} + \\frac{1}{R_2} $$.\n",
    "\n",
    "This is a little bit combersome to remember or to operate with a pocket calculator. Becuase we need to do, for this example:\n",
    "\n",
    "$$ \\frac{1}{R_{eq}} = \\frac{1}{12} + \\frac{1}{24} $$. It is very easy to make a mistake when keing these numbers on the calculator. For this reason, for the simple cases of two resistors, the equation above is replaced by the equivalent equation:\n",
    "\n",
    "$$R_{eq} = \\frac{R_1 R_2}{R_1 + R_2} $$.\n",
    "This equation is much easier to remember and to operate, and thus:\n",
    "\n",
    "$$R_{eq} = \\frac{12 \\Omega (24 \\Omega)}{12 \\Omega + 24 \\Omega} = \\frac{288 \\Omega^2 }{36 \\Omega} = 8 \\Omega $$\n",
    "\n",
    "The circuit is now reduced and looks like:\n",
    "\n",
    "\n",
    "<img src=\"T2.jpg\" width=\"400\">\n",
    "\n",
    "\n",
    "**Note**: In the last calculation we have kept all the $\\Omega$ symbols to show that the resut is consistent with the units. But it is very common not to put the $\\Omega$ when calculating the equivalent resistance of two resistors and just put the $\\Omega$ at the end of the final numerical value. Just make sure not to combine $k\\Omega$ with $\\Omega$ in the same calculation (for any other mismatch).  \n"
   ]
  },
  {
   "cell_type": "markdown",
   "metadata": {},
   "source": [
    "## Step 3\n",
    "\n",
    "- Now the circuit is much smaller and across terminals *a* and *b* there are three resistors with values $2 \\Omega$, $8 \\Omega$ and $6 \\Omega$ respectively all connected in series. This is very simple, since resitors in series allows to add up their values to find an equivalent resistor value. Thus, $2 \\Omega + 8 \\Omega + 6 \\Omega = 16 \\Omega$. This implies that the final circuit across terminals *a* and *b* is reduced to:\n",
    "\n",
    "\n",
    "<img src=\"T3.jpg\" width=\"400\">"
   ]
  },
  {
   "cell_type": "markdown",
   "metadata": {},
   "source": [
    "After doing 2, 3 more exercises all this will become easy and then you can speed up the process of combining resistor regardless of how complex they may look like. "
   ]
  }
 ],
 "metadata": {
  "kernelspec": {
   "display_name": "Python 3",
   "language": "python",
   "name": "python3"
  },
  "language_info": {
   "codemirror_mode": {
    "name": "ipython",
    "version": 3
   },
   "file_extension": ".py",
   "mimetype": "text/x-python",
   "name": "python",
   "nbconvert_exporter": "python",
   "pygments_lexer": "ipython3",
   "version": "3.6.0"
  }
 },
 "nbformat": 4,
 "nbformat_minor": 2
}

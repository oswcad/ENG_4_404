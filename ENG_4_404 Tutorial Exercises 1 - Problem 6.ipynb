{
 "cells": [
  {
   "cell_type": "markdown",
   "metadata": {},
   "source": [
    "6) For the circuit shown below, calculate the current $i$, and hence the voltage, $v_o$, developed across the $40k \\Omega$ resistor\n",
    "\n",
    "<img src=\"E16a.PNG\">"
   ]
  },
  {
   "cell_type": "markdown",
   "metadata": {},
   "source": [
    "## About the current $i$\n",
    "\n",
    "The current $i$ is very easy since it is Ohm's Law directly so that $i = \\frac{180}{10 + 30} = 4.5 mA$. You need to note two things: <br>\n",
    "\n",
    "- The resistor with value $10k\\Omega$ and the resistor with value $30 k\\Omega$ are in series and that's why their values were added\n",
    "- *Most important* in the calculation, the resistors have values in kilo $\\Omega$ which means that there is afactor of 1000 or $10^3$ in the denominator. After the calculation it will appear as $10^{-3}$ which is referred to as mili. That's why we have written the answer in $mA$ and not in $A$. There is quite a big difference between $4.5 A$ and $4.5 mA$. For instance $4.5A$ is most likely to be taken by the whole fridge in your house while $4.5 mA$ might be the kind of current of one componenet in your mobile phone. In other words you most certainly die if your body suffers a $4A$ surge of current (from lighting) but will most probably survive a $4.5 mA$ current"
   ]
  },
  {
   "cell_type": "markdown",
   "metadata": {},
   "source": [
    "## What about the funny triangular shape symbol there?\n",
    "\n",
    "Well, we have seen this. It has been described as a *dependent* voltage source. So the value of the voltage developed is given by 30 thousand times the value of the current $i$. As we know that the value of the current $i = 4.5 mA$ then the dependent voltage source is delivering $30000 (4.5\\times10^{-3}) = 30\\times10^3 (4.5\\times10^{-3}) = 30(4.5) = 135 V$\n",
    "\n",
    "Yes, it looks crazy in this case, something we cannot easyly explain or are used to. So, this is telling you that from $4.5 mA$ $135 V$ are generated. But there is no mystery in it, if you make $4.5 mA$ to pass through a resistor of $30 k\\Omega$ then $135 V$ would appear across the resistor. The cost of a resistor of a $30 k\\Omega$ resistor is the same as the cost of a $180 \\Omega$ resistor but the power it need to be able to dissipate in these conditions would be quite different.  \n",
    "\n",
    "Consider this kind of representations like a little bit of magic or a mathematical model of something we don't know how to build yet.  "
   ]
  },
  {
   "cell_type": "markdown",
   "metadata": {},
   "source": [
    "## The output voltage $v_o$\n",
    "\n",
    "Note that we can now replace the dependent voltage source by a constant value of $135 V$ in this case. So to find the output voltage $v_o$ is as simple as knowing how to apply the voltage divider rule. \n",
    "\n",
    "$v_o = \\frac{40}{40 + 20}135 = \\frac{40}{60}135 = \\frac{2}{3}135 = 90 V$\n",
    "\n",
    "*Note*: If we are careful to keep all the resistor value in $k\\Omega$ there is no need to complicate things and put the $10^3$ in the pocket calculator, which makes things a bit easier. See that this power cancels out since appears in the numerator and denominator. Just practice for not making a mistake. \n",
    "\n",
    "The whole calculation may look like this in a real exam script. This is the kind of workout we expect you to show in your solutions in a real exam situation. \n",
    "\n",
    "<img src=\"E16b.PNG\">"
   ]
  },
  {
   "cell_type": "code",
   "execution_count": null,
   "metadata": {
    "collapsed": true
   },
   "outputs": [],
   "source": []
  }
 ],
 "metadata": {
  "kernelspec": {
   "display_name": "Python 3",
   "language": "python",
   "name": "python3"
  },
  "language_info": {
   "codemirror_mode": {
    "name": "ipython",
    "version": 3
   },
   "file_extension": ".py",
   "mimetype": "text/x-python",
   "name": "python",
   "nbconvert_exporter": "python",
   "pygments_lexer": "ipython3",
   "version": "3.6.0"
  }
 },
 "nbformat": 4,
 "nbformat_minor": 2
}
